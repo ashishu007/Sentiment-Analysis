{
 "cells": [
  {
   "cell_type": "code",
   "execution_count": 1,
   "metadata": {},
   "outputs": [],
   "source": [
    "import nltk\n",
    "from nltk.corpus import stopwords\n",
    "from nltk.stem import PorterStemmer\n",
    "from nltk.tokenize import sent_tokenize, word_tokenize\n",
    "from nltk.corpus import state_union\n",
    "from nltk.tokenize import PunktSentenceTokenizer"
   ]
  },
  {
   "cell_type": "code",
   "execution_count": 2,
   "metadata": {},
   "outputs": [],
   "source": [
    "def filter_stopwords(sentence):\n",
    "    example_sent = sentence\n",
    "    stop_words = set(stopwords.words('english'))\n",
    "    word_tokens = word_tokenize(example_sent)\n",
    "    filtered_sentence = [w for w in word_tokens if not w in stop_words]\n",
    "    filtered_sentence = []\n",
    "    for w in word_tokens:\n",
    "        if w not in stop_words:\n",
    "            filtered_sentence.append(w)\n",
    "#     print(word_tokens)\n",
    "#     print(filtered_sentence)\n",
    "    return filtered_sentence"
   ]
  },
  {
   "cell_type": "code",
   "execution_count": 3,
   "metadata": {},
   "outputs": [
    {
     "name": "stdout",
     "output_type": "stream",
     "text": [
      "['This', 'sample', 'sentence', ',', 'showing', 'stop', 'words', 'filtration', '.']\n"
     ]
    }
   ],
   "source": [
    "res = filter_stopwords(\"This is a sample sentence, showing off the stop words filtration.\")\n",
    "print(res)"
   ]
  },
  {
   "cell_type": "code",
   "execution_count": 4,
   "metadata": {},
   "outputs": [],
   "source": [
    "def stemming_sent(sentence):\n",
    "    ps = PorterStemmer()\n",
    "    words = word_tokenize(sentence)\n",
    "    stems = []\n",
    "    for w in words:\n",
    "        stems.append(ps.stem(w))\n",
    "    return stems\n",
    "\n",
    "def stemming_tokens(tokens):\n",
    "    ps = PorterStemmer()\n",
    "    stems = []\n",
    "    for w in tokens:\n",
    "        stems.append(ps.stem(w))\n",
    "    return stems"
   ]
  },
  {
   "cell_type": "code",
   "execution_count": 5,
   "metadata": {},
   "outputs": [
    {
     "name": "stdout",
     "output_type": "stream",
     "text": [
      "['thi', 'is', 'a', 'sampl', 'sentenc', ',', 'show', 'off', 'the', 'stop', 'word', 'filtrat', '.']\n",
      "['thi', 'sampl', 'sentenc', ',', 'show', 'stop', 'word', 'filtrat', '.']\n"
     ]
    }
   ],
   "source": [
    "res1 = stemming_sent(\"This is a sample sentence, showing off the stop words filtration.\")\n",
    "print(res1)\n",
    "res2 = stemming_tokens(res)\n",
    "print(res2)"
   ]
  },
  {
   "cell_type": "code",
   "execution_count": 22,
   "metadata": {},
   "outputs": [],
   "source": [
    "# sample_text = state_union.raw(\"2006-GWBush.txt\")\n",
    "# custom_sent_tokenizer = PunktSentenceTokenizer(train_text)\n",
    "# tokenized = custom_sent_tokenizer.tokenize(sample_text)\n",
    "\n",
    "def process_content(sentence):\n",
    "    train_text = state_union.raw(\"2005-GWBush.txt\")\n",
    "    custom_sent_tokenizer = PunktSentenceTokenizer(train_text)\n",
    "    tokenized = custom_sent_tokenizer.tokenize(sentence)\n",
    "    try:\n",
    "        for i in tokenized:\n",
    "            words = nltk.word_tokenize(i)\n",
    "            tagged = nltk.pos_tag(words)\n",
    "\n",
    "            chunkGram = r\"\"\"Chunk: {<.*>+}\n",
    "                                    }<VB.?|IN|DT|TO>+{\"\"\"\n",
    "\n",
    "            chunkParser = nltk.RegexpParser(chunkGram)\n",
    "            chunked = chunkParser.parse(tagged)\n",
    "\n",
    "            chunked.draw()            \n",
    "#             words = nltk.word_tokenize(i)\n",
    "#             tagged = nltk.pos_tag(words)\n",
    "#             print(tagged)\n",
    "\n",
    "    except Exception as e:\n",
    "        print(str(e))\n",
    "    return tagged"
   ]
  },
  {
   "cell_type": "code",
   "execution_count": 23,
   "metadata": {},
   "outputs": [
    {
     "name": "stdout",
     "output_type": "stream",
     "text": [
      "[('This', 'DT'), ('is', 'VBZ'), ('a', 'DT'), ('sample', 'JJ'), ('sentence', 'NN'), (',', ','), ('showing', 'VBG'), ('off', 'RP'), ('the', 'DT'), ('stop', 'NN'), ('words', 'NNS'), ('filtration', 'NN'), ('.', '.')]\n"
     ]
    }
   ],
   "source": [
    "sen = \"This is a sample sentence, showing off the stop words filtration.\"\n",
    "res3 = process_content(sen)\n",
    "print(res3)"
   ]
  },
  {
   "cell_type": "code",
   "execution_count": 1,
   "metadata": {},
   "outputs": [],
   "source": [
    "import nltk\n",
    "from nltk.corpus import state_union\n",
    "from nltk.tokenize import PunktSentenceTokenizer\n",
    "\n",
    "train_text = state_union.raw(\"2005-GWBush.txt\")\n",
    "sample_text = state_union.raw(\"2006-GWBush.txt\")\n",
    "\n",
    "custom_sent_tokenizer = PunktSentenceTokenizer(train_text)\n",
    "\n",
    "tokenized = custom_sent_tokenizer.tokenize(sample_text)\n",
    "\n",
    "def process_content():\n",
    "    try:\n",
    "        for i in tokenized[5:]:\n",
    "            words = nltk.word_tokenize(i)\n",
    "            tagged = nltk.pos_tag(words)\n",
    "            namedEnt = nltk.ne_chunk(tagged, binary=True)\n",
    "            namedEnt.draw()\n",
    "    except Exception as e:\n",
    "        print(str(e))\n",
    "\n",
    "\n",
    "# process_content()"
   ]
  },
  {
   "cell_type": "code",
   "execution_count": null,
   "metadata": {},
   "outputs": [],
   "source": []
  }
 ],
 "metadata": {
  "kernelspec": {
   "display_name": "Python 3",
   "language": "python",
   "name": "python3"
  },
  "language_info": {
   "codemirror_mode": {
    "name": "ipython",
    "version": 3
   },
   "file_extension": ".py",
   "mimetype": "text/x-python",
   "name": "python",
   "nbconvert_exporter": "python",
   "pygments_lexer": "ipython3",
   "version": "3.6.4"
  }
 },
 "nbformat": 4,
 "nbformat_minor": 2
}
