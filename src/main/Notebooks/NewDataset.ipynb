{
 "cells": [
  {
   "cell_type": "code",
   "execution_count": 1,
   "metadata": {},
   "outputs": [],
   "source": [
    "import pandas as pd"
   ]
  },
  {
   "cell_type": "code",
   "execution_count": 2,
   "metadata": {},
   "outputs": [
    {
     "data": {
      "text/html": [
       "<div>\n",
       "<style scoped>\n",
       "    .dataframe tbody tr th:only-of-type {\n",
       "        vertical-align: middle;\n",
       "    }\n",
       "\n",
       "    .dataframe tbody tr th {\n",
       "        vertical-align: top;\n",
       "    }\n",
       "\n",
       "    .dataframe thead th {\n",
       "        text-align: right;\n",
       "    }\n",
       "</style>\n",
       "<table border=\"1\" class=\"dataframe\">\n",
       "  <thead>\n",
       "    <tr style=\"text-align: right;\">\n",
       "      <th></th>\n",
       "      <th>sentiment</th>\n",
       "      <th>tweets</th>\n",
       "    </tr>\n",
       "  </thead>\n",
       "  <tbody>\n",
       "    <tr>\n",
       "      <th>0</th>\n",
       "      <td>positive</td>\n",
       "      <td>the gorgeously elaborate continuation of \" the...</td>\n",
       "    </tr>\n",
       "    <tr>\n",
       "      <th>1</th>\n",
       "      <td>positive</td>\n",
       "      <td>effective but too-tepid biopic</td>\n",
       "    </tr>\n",
       "    <tr>\n",
       "      <th>2</th>\n",
       "      <td>positive</td>\n",
       "      <td>if you sometimes like to go to the movies to h...</td>\n",
       "    </tr>\n",
       "    <tr>\n",
       "      <th>3</th>\n",
       "      <td>positive</td>\n",
       "      <td>emerges as something rare , an issue movie tha...</td>\n",
       "    </tr>\n",
       "    <tr>\n",
       "      <th>4</th>\n",
       "      <td>positive</td>\n",
       "      <td>the film provides some great insight into the ...</td>\n",
       "    </tr>\n",
       "  </tbody>\n",
       "</table>\n",
       "</div>"
      ],
      "text/plain": [
       "  sentiment                                             tweets\n",
       "0  positive  the gorgeously elaborate continuation of \" the...\n",
       "1  positive                     effective but too-tepid biopic\n",
       "2  positive  if you sometimes like to go to the movies to h...\n",
       "3  positive  emerges as something rare , an issue movie tha...\n",
       "4  positive  the film provides some great insight into the ..."
      ]
     },
     "execution_count": 2,
     "metadata": {},
     "output_type": "execute_result"
    }
   ],
   "source": [
    "df = pd.read_csv(\"C:\\\\Users\\\\User\\\\Sentiment-Analysis\\\\src\\\\main\\\\Resources\\\\training_dataset.csv\", encoding=\"cp850\")\n",
    "df.head()"
   ]
  },
  {
   "cell_type": "code",
   "execution_count": 3,
   "metadata": {},
   "outputs": [],
   "source": [
    "positives = []\n",
    "negatives = []\n",
    "neutrals = []"
   ]
  },
  {
   "cell_type": "code",
   "execution_count": 4,
   "metadata": {
    "scrolled": true
   },
   "outputs": [],
   "source": [
    "ctr = 0\n",
    "for index, row in df.iterrows():\n",
    "    if row[\"sentiment\"] == \"positive\":\n",
    "        positives.append(ctr)\n",
    "    elif row[\"sentiment\"] == \"negative\":\n",
    "        negatives.append(ctr)\n",
    "    else:\n",
    "        neutrals.append(ctr)\n",
    "    ctr += 1"
   ]
  },
  {
   "cell_type": "code",
   "execution_count": 5,
   "metadata": {},
   "outputs": [
    {
     "name": "stdout",
     "output_type": "stream",
     "text": [
      "2271 9666 9666\n"
     ]
    }
   ],
   "source": [
    "print(len(neutrals), len(negatives), len(positives))"
   ]
  },
  {
   "cell_type": "code",
   "execution_count": 6,
   "metadata": {},
   "outputs": [],
   "source": [
    "# print(positives)"
   ]
  },
  {
   "cell_type": "code",
   "execution_count": 7,
   "metadata": {},
   "outputs": [],
   "source": [
    "# Training Dataset "
   ]
  },
  {
   "cell_type": "code",
   "execution_count": 8,
   "metadata": {},
   "outputs": [],
   "source": [
    "df1 = pd.DataFrame([[\"positive\", \"I like this government\"]], columns=[\"sentiment\", \"tweets\"])\n",
    "ctr = 1\n",
    "for i in positives[:2000]:\n",
    "    tweet = df[\"tweets\"].iloc[i]\n",
    "    sentiment = df[\"sentiment\"].iloc[i]\n",
    "    dict1 = {\n",
    "        \"tweets\": tweet,\n",
    "        \"sentiment\": sentiment\n",
    "    }\n",
    "    df_temp = pd.DataFrame(dict1, columns = [\"tweets\", \"sentiment\"], index = [ctr])\n",
    "    frames = [df1, df_temp]\n",
    "    df1 = pd.concat(frames)\n",
    "    ctr += 1"
   ]
  },
  {
   "cell_type": "code",
   "execution_count": 9,
   "metadata": {
    "scrolled": true
   },
   "outputs": [],
   "source": [
    "df2 = pd.DataFrame([[\"negative\", \"I don't like this government\"]], columns=[\"sentiment\", \"tweets\"])\n",
    "ctr = 1\n",
    "for i in negatives[:2000]:\n",
    "    tweet = df[\"tweets\"].iloc[i]\n",
    "    sentiment = df[\"sentiment\"].iloc[i]\n",
    "    dict1 = {\n",
    "        \"tweets\": tweet,\n",
    "        \"sentiment\": sentiment\n",
    "    }\n",
    "    df_temp = pd.DataFrame(dict1, columns = [\"tweets\", \"sentiment\"], index = [ctr])\n",
    "    frames = [df2, df_temp]\n",
    "    df2 = pd.concat(frames)\n",
    "    ctr += 1"
   ]
  },
  {
   "cell_type": "code",
   "execution_count": 10,
   "metadata": {
    "scrolled": true
   },
   "outputs": [],
   "source": [
    "df3 = pd.DataFrame([[\"neutral\", \"This government is okay\"]], columns=[\"sentiment\", \"tweets\"])\n",
    "ctr = 1\n",
    "for i in neutrals[:2000]:\n",
    "    tweet = df[\"tweets\"].iloc[i]\n",
    "    sentiment = df[\"sentiment\"].iloc[i]\n",
    "    dict1 = {\n",
    "        \"tweets\": tweet,\n",
    "        \"sentiment\": sentiment\n",
    "    }\n",
    "    df_temp = pd.DataFrame(dict1, columns = [\"tweets\", \"sentiment\"], index = [ctr])\n",
    "    frames = [df3, df_temp]\n",
    "    df3 = pd.concat(frames)\n",
    "    ctr += 1"
   ]
  },
  {
   "cell_type": "code",
   "execution_count": 11,
   "metadata": {
    "scrolled": true
   },
   "outputs": [],
   "source": [
    "f = [df1, df2, df3]\n",
    "df_final = pd.concat(f)"
   ]
  },
  {
   "cell_type": "code",
   "execution_count": 12,
   "metadata": {},
   "outputs": [],
   "source": [
    "len(df_final)\n",
    "df_final.to_csv(\"C:\\\\Users\\\\User\\\\Sentiment-Analysis\\\\src\\\\main\\\\Resources\\\\training_final.csv\", index = 0)"
   ]
  },
  {
   "cell_type": "code",
   "execution_count": 13,
   "metadata": {},
   "outputs": [],
   "source": [
    "# Testing Dataset"
   ]
  },
  {
   "cell_type": "code",
   "execution_count": 14,
   "metadata": {},
   "outputs": [],
   "source": [
    "df1 = pd.DataFrame([[\"positive\", \"I like this government\"]], columns=[\"sentiment\", \"tweets\"])\n",
    "ctr = 1\n",
    "for i in positives[6000:6500]:\n",
    "    tweet = df[\"tweets\"].iloc[i]\n",
    "    sentiment = df[\"sentiment\"].iloc[i]\n",
    "    dict1 = {\n",
    "        \"tweets\": tweet,\n",
    "        \"sentiment\": sentiment\n",
    "    }\n",
    "    df_temp = pd.DataFrame(dict1, columns = [\"tweets\", \"sentiment\"], index = [ctr])\n",
    "    frames = [df1, df_temp]\n",
    "    df1 = pd.concat(frames)\n",
    "    ctr += 1"
   ]
  },
  {
   "cell_type": "code",
   "execution_count": 15,
   "metadata": {
    "scrolled": true
   },
   "outputs": [],
   "source": [
    "df2 = pd.DataFrame([[\"negative\", \"I don't like this government\"]], columns=[\"sentiment\", \"tweets\"])\n",
    "ctr = 1\n",
    "for i in negatives[6000:6500]:\n",
    "    tweet = df[\"tweets\"].iloc[i]\n",
    "    sentiment = df[\"sentiment\"].iloc[i]\n",
    "    dict1 = {\n",
    "        \"tweets\": tweet,\n",
    "        \"sentiment\": sentiment\n",
    "    }\n",
    "    df_temp = pd.DataFrame(dict1, columns = [\"tweets\", \"sentiment\"], index = [ctr])\n",
    "    frames = [df2, df_temp]\n",
    "    df2 = pd.concat(frames)\n",
    "    ctr += 1"
   ]
  },
  {
   "cell_type": "code",
   "execution_count": 16,
   "metadata": {
    "scrolled": true
   },
   "outputs": [],
   "source": [
    "df3 = pd.DataFrame([[\"neutral\", \"This government is okay\"]], columns=[\"sentiment\", \"tweets\"])\n",
    "ctr = 1\n",
    "for i in neutrals[2000:]:\n",
    "    tweet = df[\"tweets\"].iloc[i]\n",
    "    sentiment = df[\"sentiment\"].iloc[i]\n",
    "    dict1 = {\n",
    "        \"tweets\": tweet,\n",
    "        \"sentiment\": sentiment\n",
    "    }\n",
    "    df_temp = pd.DataFrame(dict1, columns = [\"tweets\", \"sentiment\"], index = [ctr])\n",
    "    frames = [df3, df_temp]\n",
    "    df3 = pd.concat(frames)\n",
    "    ctr += 1"
   ]
  },
  {
   "cell_type": "code",
   "execution_count": 17,
   "metadata": {
    "scrolled": true
   },
   "outputs": [],
   "source": [
    "f = [df1, df2, df3]\n",
    "df_final = pd.concat(f)"
   ]
  },
  {
   "cell_type": "code",
   "execution_count": 18,
   "metadata": {},
   "outputs": [],
   "source": [
    "len(df_final)\n",
    "df_final.to_csv(\"C:\\\\Users\\\\User\\\\Sentiment-Analysis\\\\src\\\\main\\\\Resources\\\\testing_final.csv\", index = 0)"
   ]
  },
  {
   "cell_type": "code",
   "execution_count": null,
   "metadata": {},
   "outputs": [],
   "source": []
  }
 ],
 "metadata": {
  "kernelspec": {
   "display_name": "Python 3",
   "language": "python",
   "name": "python3"
  },
  "language_info": {
   "codemirror_mode": {
    "name": "ipython",
    "version": 3
   },
   "file_extension": ".py",
   "mimetype": "text/x-python",
   "name": "python",
   "nbconvert_exporter": "python",
   "pygments_lexer": "ipython3",
   "version": "3.6.4"
  }
 },
 "nbformat": 4,
 "nbformat_minor": 2
}
