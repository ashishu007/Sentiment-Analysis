{
 "cells": [
  {
   "cell_type": "code",
   "execution_count": 1,
   "metadata": {},
   "outputs": [],
   "source": [
    "#!/usr/bin/python\n",
    "import tweepy\n",
    "import re\n",
    "import pandas as pd\n",
    "\n",
    "consumer_key = \"JiNb0JkXyIy7sh5B9QZa1DSSu\"\n",
    "consumer_secret = \"OYvmtgQEAveN7QrelH9mwvftXZa7cBBLM2GORh3gaEDl61EL8H\"\n",
    "\n",
    "access_token = \"3562472131-F18yEVO6pahXndKwhDEAZ6y9J0wphG6ih0wYzOe\"\n",
    "access_token_secret = \"i73BrAzKBHquAKlEHrC9QtBjH4Z6GHHnWEFdLkU2LDi6o\"\n",
    "\n",
    "auth = tweepy.OAuthHandler(consumer_key, consumer_secret)\n",
    "auth.set_access_token(access_token, access_token_secret)\n",
    "\n",
    "api = tweepy.API(auth, wait_on_rate_limit=True)"
   ]
  },
  {
   "cell_type": "code",
   "execution_count": 2,
   "metadata": {},
   "outputs": [],
   "source": [
    "def get_csv(keyword):\n",
    "    time = []\n",
    "    tweets = []  \n",
    "    query = \"#\" + keyword\n",
    "    \n",
    "    for tweet in tweepy.Cursor(api.search,q=query,count=100,\n",
    "                               lang=\"en\",\n",
    "                               since=\"2014-07-15\").items(200):\n",
    "        time.append(tweet.created_at)\n",
    "        temp = tweet.text\n",
    "        temp1 = ' '.join(re.sub(\"(@[A-Za-z0-9]+)|([^0-9A-Za-z \\t])|(\\w+:\\/\\/\\S+)\",\" \",temp).split())\n",
    "        temp2 = temp1.replace(\"RT\", \"\")\n",
    "        tweets.append(temp2)\n",
    "\n",
    "    raw_data = {\n",
    "        \"time\": time,\n",
    "        \"tweets\": tweets\n",
    "    }\n",
    "    df = pd.DataFrame(raw_data, columns = [\"time\", \"tweets\"])\n",
    "    csv_name = keyword + \".csv\"\n",
    "    df.to_csv(\"C:\\\\Users\\\\User\\\\Documents\\\\Sentiment Analysis\\\\Output\\\\\" + csv_name)"
   ]
  },
  {
   "cell_type": "code",
   "execution_count": 3,
   "metadata": {},
   "outputs": [],
   "source": [
    "keywords = [\"BJP\", \"ModiSarkar\", \"NoConfidenceMotion\", \"Demonitization\", \"GST\", \"JanDhanYojana\", \"RafleDeal\"]\n",
    "for word in keywords:\n",
    "    get_csv(word)\n",
    "    \n",
    "# 0 = Neutral\n",
    "# 1 = Positive\n",
    "# 2 = Negative"
   ]
  },
  {
   "cell_type": "code",
   "execution_count": 6,
   "metadata": {},
   "outputs": [
    {
     "data": {
      "text/html": [
       "<div>\n",
       "<style scoped>\n",
       "    .dataframe tbody tr th:only-of-type {\n",
       "        vertical-align: middle;\n",
       "    }\n",
       "\n",
       "    .dataframe tbody tr th {\n",
       "        vertical-align: top;\n",
       "    }\n",
       "\n",
       "    .dataframe thead th {\n",
       "        text-align: right;\n",
       "    }\n",
       "</style>\n",
       "<table border=\"1\" class=\"dataframe\">\n",
       "  <thead>\n",
       "    <tr style=\"text-align: right;\">\n",
       "      <th></th>\n",
       "      <th>positive</th>\n",
       "      <th>the rock is destined to be the 21st century's new \" conan \" and that he's going to make a splash even greater than arnold schwarzenegger , jean-claud van damme or steven segal .</th>\n",
       "    </tr>\n",
       "  </thead>\n",
       "  <tbody>\n",
       "    <tr>\n",
       "      <th>0</th>\n",
       "      <td>positive</td>\n",
       "      <td>the gorgeously elaborate continuation of \" the...</td>\n",
       "    </tr>\n",
       "    <tr>\n",
       "      <th>1</th>\n",
       "      <td>positive</td>\n",
       "      <td>effective but too-tepid biopic</td>\n",
       "    </tr>\n",
       "    <tr>\n",
       "      <th>2</th>\n",
       "      <td>positive</td>\n",
       "      <td>if you sometimes like to go to the movies to h...</td>\n",
       "    </tr>\n",
       "    <tr>\n",
       "      <th>3</th>\n",
       "      <td>positive</td>\n",
       "      <td>emerges as something rare , an issue movie tha...</td>\n",
       "    </tr>\n",
       "    <tr>\n",
       "      <th>4</th>\n",
       "      <td>positive</td>\n",
       "      <td>the film provides some great insight into the ...</td>\n",
       "    </tr>\n",
       "  </tbody>\n",
       "</table>\n",
       "</div>"
      ],
      "text/plain": [
       "   positive  \\\n",
       "0  positive   \n",
       "1  positive   \n",
       "2  positive   \n",
       "3  positive   \n",
       "4  positive   \n",
       "\n",
       "  the rock is destined to be the 21st century's new \" conan \" and that he's going to make a splash even greater than arnold schwarzenegger , jean-claud van damme or steven segal .  \n",
       "0  the gorgeously elaborate continuation of \" the...                                                                                                                                 \n",
       "1                     effective but too-tepid biopic                                                                                                                                 \n",
       "2  if you sometimes like to go to the movies to h...                                                                                                                                 \n",
       "3  emerges as something rare , an issue movie tha...                                                                                                                                 \n",
       "4  the film provides some great insight into the ...                                                                                                                                 "
      ]
     },
     "execution_count": 6,
     "metadata": {},
     "output_type": "execute_result"
    }
   ],
   "source": [
    "df1 = pd.read_csv(\"C:/Users/User/twitter-sentiment-analyzer-master/data/full_training_dataset.csv\", encoding=\"cp850\")\n",
    "df1.head()"
   ]
  }
 ],
 "metadata": {
  "kernelspec": {
   "display_name": "Python 3",
   "language": "python",
   "name": "python3"
  },
  "language_info": {
   "codemirror_mode": {
    "name": "ipython",
    "version": 3
   },
   "file_extension": ".py",
   "mimetype": "text/x-python",
   "name": "python",
   "nbconvert_exporter": "python",
   "pygments_lexer": "ipython3",
   "version": "3.6.4"
  }
 },
 "nbformat": 4,
 "nbformat_minor": 2
}
