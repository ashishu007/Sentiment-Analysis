{
 "cells": [
  {
   "cell_type": "code",
   "execution_count": 1,
   "metadata": {},
   "outputs": [],
   "source": [
    "#!/usr/bin/python\n",
    "import tweepy\n",
    "import re\n",
    "import pandas as pd\n",
    "\n",
    "consumer_key = \"JiNb0JkXyIy7sh5B9QZa1DSSu\"\n",
    "consumer_secret = \"OYvmtgQEAveN7QrelH9mwvftXZa7cBBLM2GORh3gaEDl61EL8H\"\n",
    "\n",
    "access_token = \"3562472131-F18yEVO6pahXndKwhDEAZ6y9J0wphG6ih0wYzOe\"\n",
    "access_token_secret = \"i73BrAzKBHquAKlEHrC9QtBjH4Z6GHHnWEFdLkU2LDi6o\"\n",
    "\n",
    "auth = tweepy.OAuthHandler(consumer_key, consumer_secret)\n",
    "auth.set_access_token(access_token, access_token_secret)\n",
    "\n",
    "api = tweepy.API(auth, wait_on_rate_limit=True)"
   ]
  },
  {
   "cell_type": "code",
   "execution_count": 2,
   "metadata": {},
   "outputs": [],
   "source": [
    "def get_csv(keyword):\n",
    "    time = []\n",
    "    tweets = []  \n",
    "    query = \"#\" + keyword\n",
    "    \n",
    "    for tweet in tweepy.Cursor(api.search,q=query,count=100,\n",
    "                               lang=\"en\",\n",
    "                               since=\"2014-07-15\").items(200):\n",
    "        time.append(tweet.created_at)\n",
    "        temp = tweet.text\n",
    "        temp1 = ' '.join(re.sub(\"(@[A-Za-z0-9]+)|([^0-9A-Za-z \\t])|(\\w+:\\/\\/\\S+)\",\" \",temp).split())\n",
    "        temp2 = temp1.replace(\"RT\", \"\")\n",
    "        tweets.append(temp2)\n",
    "\n",
    "    raw_data = {\n",
    "        \"time\": time,\n",
    "        \"tweets\": tweets\n",
    "    }\n",
    "    df = pd.DataFrame(raw_data, columns = [\"time\", \"tweets\"])\n",
    "    csv_name = keyword + \".csv\"\n",
    "    df.to_csv(\"C:\\\\Users\\\\User\\\\Documents\\\\Sentiment Analysis\\\\Output\\\\\" + csv_name)"
   ]
  },
  {
   "cell_type": "code",
   "execution_count": 3,
   "metadata": {},
   "outputs": [],
   "source": [
    "keywords = [\"BJP\", \"ModiSarkar\", \"NoConfidenceMotion\", \"Demonitization\", \"GST\", \"JanDhanYojana\", \"RafleDeal\"]\n",
    "for word in keywords:\n",
    "    get_csv(word)\n",
    "    \n",
    "# 0 = Neutral\n",
    "# 1 = Positive\n",
    "# 2 = Negative"
   ]
  },
  {
   "cell_type": "code",
   "execution_count": null,
   "metadata": {},
   "outputs": [],
   "source": []
  }
 ],
 "metadata": {
  "kernelspec": {
   "display_name": "Python 3",
   "language": "python",
   "name": "python3"
  },
  "language_info": {
   "codemirror_mode": {
    "name": "ipython",
    "version": 3
   },
   "file_extension": ".py",
   "mimetype": "text/x-python",
   "name": "python",
   "nbconvert_exporter": "python",
   "pygments_lexer": "ipython3",
   "version": "3.6.4"
  }
 },
 "nbformat": 4,
 "nbformat_minor": 2
}
