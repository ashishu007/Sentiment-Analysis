{
 "cells": [
  {
   "cell_type": "code",
   "execution_count": 8,
   "metadata": {
    "scrolled": true
   },
   "outputs": [
    {
     "name": "stdout",
     "output_type": "stream",
     "text": [
      "text1\n",
      "text2\n",
      "http://url.com/bla1/blah1/\n",
      "text3\n",
      "text4\n",
      "http://url.com/bla2/blah2/\n",
      "text5\n",
      "text6\n",
      "text1\n",
      "text2\n",
      "ashish\n",
      "text3\n",
      "text4\n",
      "ashish\n",
      "text5\n",
      "text6\n"
     ]
    }
   ],
   "source": [
    "import re\n",
    "thestring = \"text1\\ntext2\\nhttp://url.com/bla1/blah1/\\ntext3\\ntext4\\nhttp://url.com/bla2/blah2/\\ntext5\\ntext6\"\n",
    "print(thestring)\n",
    "URLless_string = re.sub(r'\\w+:\\/{2}[\\d\\w-]+(\\.[\\d\\w-]+)*(?:(?:\\/[^\\s/]*))*', 'ashish', thestring)\n",
    "print(URLless_string)"
   ]
  },
  {
   "cell_type": "code",
   "execution_count": null,
   "metadata": {},
   "outputs": [],
   "source": []
  }
 ],
 "metadata": {
  "kernelspec": {
   "display_name": "Python 3",
   "language": "python",
   "name": "python3"
  },
  "language_info": {
   "codemirror_mode": {
    "name": "ipython",
    "version": 3
   },
   "file_extension": ".py",
   "mimetype": "text/x-python",
   "name": "python",
   "nbconvert_exporter": "python",
   "pygments_lexer": "ipython3",
   "version": "3.6.4"
  }
 },
 "nbformat": 4,
 "nbformat_minor": 2
}
