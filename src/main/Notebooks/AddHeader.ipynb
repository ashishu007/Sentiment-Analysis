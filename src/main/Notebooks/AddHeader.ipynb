{
 "cells": [
  {
   "cell_type": "code",
   "execution_count": null,
   "metadata": {},
   "outputs": [],
   "source": [
    "import csv\n",
    "with open('C:\\\\Users\\\\User\\\\Documents\\\\Sentiment Analysis\\\\Resources\\\\trainingandtestdata\\\\testing.csv',newline='') as f:\n",
    "    r = csv.reader(f)\n",
    "    data = [line for line in r]\n",
    "with open('C:\\\\Users\\\\User\\\\Documents\\\\Sentiment Analysis\\\\Resources\\\\trainingandtestdata\\\\testing.csv','w',newline='') as f:\n",
    "    w = csv.writer(f)\n",
    "    w.writerow(['class','id', 'time', 'useless', 'useless1', 'text'])\n",
    "    w.writerows(data)"
   ]
  }
 ],
 "metadata": {
  "kernelspec": {
   "display_name": "Python 3",
   "language": "python",
   "name": "python3"
  },
  "language_info": {
   "codemirror_mode": {
    "name": "ipython",
    "version": 3
   },
   "file_extension": ".py",
   "mimetype": "text/x-python",
   "name": "python",
   "nbconvert_exporter": "python",
   "pygments_lexer": "ipython3",
   "version": "3.6.4"
  }
 },
 "nbformat": 4,
 "nbformat_minor": 2
}
